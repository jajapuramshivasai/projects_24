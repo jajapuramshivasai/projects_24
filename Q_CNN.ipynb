{
  "nbformat": 4,
  "nbformat_minor": 0,
  "metadata": {
    "colab": {
      "provenance": [],
      "authorship_tag": "ABX9TyONePYkx3AHHNrfobcC01HR",
      "include_colab_link": true
    },
    "kernelspec": {
      "name": "python3",
      "display_name": "Python 3"
    },
    "language_info": {
      "name": "python"
    }
  },
  "cells": [
    {
      "cell_type": "markdown",
      "metadata": {
        "id": "view-in-github",
        "colab_type": "text"
      },
      "source": [
        "<a href=\"https://colab.research.google.com/github/jajapuramshivasai/projects_24/blob/main/Q_CNN.ipynb\" target=\"_parent\"><img src=\"https://colab.research.google.com/assets/colab-badge.svg\" alt=\"Open In Colab\"/></a>"
      ]
    },
    {
      "cell_type": "code",
      "source": [
        "!pip install pennylane"
      ],
      "metadata": {
        "colab": {
          "base_uri": "https://localhost:8080/"
        },
        "id": "7lT_ZkzZ0Suo",
        "outputId": "e04410e5-fd60-4451-fe18-55821ed1d59b"
      },
      "execution_count": 1,
      "outputs": [
        {
          "output_type": "stream",
          "name": "stdout",
          "text": [
            "Collecting pennylane\n",
            "  Downloading PennyLane-0.37.0-py3-none-any.whl.metadata (9.3 kB)\n",
            "Requirement already satisfied: numpy<2.0 in /usr/local/lib/python3.10/dist-packages (from pennylane) (1.26.4)\n",
            "Requirement already satisfied: scipy in /usr/local/lib/python3.10/dist-packages (from pennylane) (1.13.1)\n",
            "Requirement already satisfied: networkx in /usr/local/lib/python3.10/dist-packages (from pennylane) (3.3)\n",
            "Collecting rustworkx (from pennylane)\n",
            "  Downloading rustworkx-0.15.1-cp38-abi3-manylinux_2_17_x86_64.manylinux2014_x86_64.whl.metadata (9.9 kB)\n",
            "Requirement already satisfied: autograd in /usr/local/lib/python3.10/dist-packages (from pennylane) (1.6.2)\n",
            "Requirement already satisfied: toml in /usr/local/lib/python3.10/dist-packages (from pennylane) (0.10.2)\n",
            "Collecting appdirs (from pennylane)\n",
            "  Downloading appdirs-1.4.4-py2.py3-none-any.whl.metadata (9.0 kB)\n",
            "Collecting semantic-version>=2.7 (from pennylane)\n",
            "  Downloading semantic_version-2.10.0-py2.py3-none-any.whl.metadata (9.7 kB)\n",
            "Collecting autoray>=0.6.11 (from pennylane)\n",
            "  Downloading autoray-0.6.12-py3-none-any.whl.metadata (5.7 kB)\n",
            "Requirement already satisfied: cachetools in /usr/local/lib/python3.10/dist-packages (from pennylane) (5.4.0)\n",
            "Collecting pennylane-lightning>=0.37 (from pennylane)\n",
            "  Downloading PennyLane_Lightning-0.37.0-cp310-cp310-manylinux_2_28_x86_64.whl.metadata (23 kB)\n",
            "Requirement already satisfied: requests in /usr/local/lib/python3.10/dist-packages (from pennylane) (2.32.3)\n",
            "Requirement already satisfied: typing-extensions in /usr/local/lib/python3.10/dist-packages (from pennylane) (4.12.2)\n",
            "Requirement already satisfied: packaging in /usr/local/lib/python3.10/dist-packages (from pennylane) (24.1)\n",
            "Requirement already satisfied: future>=0.15.2 in /usr/local/lib/python3.10/dist-packages (from autograd->pennylane) (1.0.0)\n",
            "Requirement already satisfied: charset-normalizer<4,>=2 in /usr/local/lib/python3.10/dist-packages (from requests->pennylane) (3.3.2)\n",
            "Requirement already satisfied: idna<4,>=2.5 in /usr/local/lib/python3.10/dist-packages (from requests->pennylane) (3.7)\n",
            "Requirement already satisfied: urllib3<3,>=1.21.1 in /usr/local/lib/python3.10/dist-packages (from requests->pennylane) (2.0.7)\n",
            "Requirement already satisfied: certifi>=2017.4.17 in /usr/local/lib/python3.10/dist-packages (from requests->pennylane) (2024.7.4)\n",
            "Downloading PennyLane-0.37.0-py3-none-any.whl (1.8 MB)\n",
            "\u001b[2K   \u001b[90m━━━━━━━━━━━━━━━━━━━━━━━━━━━━━━━━━━━━━━━━\u001b[0m \u001b[32m1.8/1.8 MB\u001b[0m \u001b[31m7.8 MB/s\u001b[0m eta \u001b[36m0:00:00\u001b[0m\n",
            "\u001b[?25hDownloading autoray-0.6.12-py3-none-any.whl (50 kB)\n",
            "\u001b[2K   \u001b[90m━━━━━━━━━━━━━━━━━━━━━━━━━━━━━━━━━━━━━━━━\u001b[0m \u001b[32m51.0/51.0 kB\u001b[0m \u001b[31m2.5 MB/s\u001b[0m eta \u001b[36m0:00:00\u001b[0m\n",
            "\u001b[?25hDownloading PennyLane_Lightning-0.37.0-cp310-cp310-manylinux_2_28_x86_64.whl (15.5 MB)\n",
            "\u001b[2K   \u001b[90m━━━━━━━━━━━━━━━━━━━━━━━━━━━━━━━━━━━━━━━━\u001b[0m \u001b[32m15.5/15.5 MB\u001b[0m \u001b[31m34.8 MB/s\u001b[0m eta \u001b[36m0:00:00\u001b[0m\n",
            "\u001b[?25hDownloading semantic_version-2.10.0-py2.py3-none-any.whl (15 kB)\n",
            "Downloading appdirs-1.4.4-py2.py3-none-any.whl (9.6 kB)\n",
            "Downloading rustworkx-0.15.1-cp38-abi3-manylinux_2_17_x86_64.manylinux2014_x86_64.whl (2.0 MB)\n",
            "\u001b[2K   \u001b[90m━━━━━━━━━━━━━━━━━━━━━━━━━━━━━━━━━━━━━━━━\u001b[0m \u001b[32m2.0/2.0 MB\u001b[0m \u001b[31m27.4 MB/s\u001b[0m eta \u001b[36m0:00:00\u001b[0m\n",
            "\u001b[?25hInstalling collected packages: appdirs, semantic-version, rustworkx, autoray, pennylane-lightning, pennylane\n",
            "Successfully installed appdirs-1.4.4 autoray-0.6.12 pennylane-0.37.0 pennylane-lightning-0.37.0 rustworkx-0.15.1 semantic-version-2.10.0\n"
          ]
        }
      ]
    },
    {
      "cell_type": "code",
      "source": [
        "import torch\n",
        "from torch import nn\n",
        "\n",
        "import torchvision\n",
        "\n",
        "import pennylane as qml\n",
        "from pennylane import numpy as np\n",
        "from pennylane.templates import RandomLayers\n",
        "\n",
        "from sklearn.metrics import accuracy_score\n",
        "import matplotlib.pyplot as plt"
      ],
      "metadata": {
        "id": "8y13HKHy0Y5I"
      },
      "execution_count": 2,
      "outputs": []
    },
    {
      "cell_type": "code",
      "source": [
        "class QonvLayer(nn.Module):\n",
        "    def __init__(self, stride=2, device=\"default.qubit\", wires=4, circuit_layers=4, n_rotations=8, out_channels=4, seed=None):\n",
        "        super(QonvLayer, self).__init__()\n",
        "\n",
        "        # init device\n",
        "        self.wires = wires\n",
        "        self.dev = qml.device(device, wires=self.wires)\n",
        "\n",
        "        self.stride = stride\n",
        "        self.out_channels = min(out_channels, wires)\n",
        "\n",
        "        if seed is None:\n",
        "            seed = np.random.randint(low=0, high=10e6)\n",
        "\n",
        "        print(\"Initializing Circuit with random seed\", seed)\n",
        "\n",
        "        # random circuits\n",
        "        @qml.qnode(device=self.dev, interface=\"torch\")\n",
        "        def circuit(inputs, weights):\n",
        "            n_inputs=4\n",
        "            # Encoding of 4 classical input values\n",
        "            for j in range(n_inputs):\n",
        "                qml.RY(inputs[j], wires=j)\n",
        "            # Random quantum circuit\n",
        "            RandomLayers(weights, wires=list(range(self.wires)), seed=seed)\n",
        "\n",
        "            # Measurement producing 4 classical output values\n",
        "            return [qml.expval(qml.PauliZ(j)) for j in range(self.out_channels)]\n",
        "\n",
        "        weight_shapes = {\"weights\": [circuit_layers, n_rotations]}\n",
        "        self.circuit = qml.qnn.TorchLayer(circuit, weight_shapes=weight_shapes)\n",
        "\n",
        "\n",
        "    def draw(self):\n",
        "        # build circuit by sending dummy data through it\n",
        "        _ = self.circuit(inputs=torch.from_numpy(np.zeros(4)))\n",
        "        print(self.circuit.qnode.draw())\n",
        "        self.circuit.zero_grad()\n",
        "\n",
        "\n",
        "    def forward(self, img):\n",
        "        bs, h, w, ch = img.size()\n",
        "        if ch > 1:\n",
        "            img = img.mean(axis=-1).reshape(bs, h, w, 1)\n",
        "\n",
        "        kernel_size = 2\n",
        "        h_out = (h-kernel_size) // self.stride + 1\n",
        "        w_out = (w-kernel_size) // self.stride + 1\n",
        "\n",
        "\n",
        "        out = torch.zeros((bs, h_out, w_out, self.out_channels))\n",
        "\n",
        "        # Loop over the coordinates of the top-left pixel of 2X2 squares\n",
        "        for b in range(bs):\n",
        "            for j in range(0, h_out, self.stride):\n",
        "                for k in range(0, w_out, self.stride):\n",
        "                    # Process a squared 2x2 region of the image with a quantum circuit\n",
        "                    q_results = self.circuit(\n",
        "                        inputs=torch.Tensor([\n",
        "                            img[b, j, k, 0],\n",
        "                            img[b, j, k + 1, 0],\n",
        "                            img[b, j + 1, k, 0],\n",
        "                            img[b, j + 1, k + 1, 0]\n",
        "                        ])\n",
        "                    )\n",
        "                    # Assign expectation values to different channels of the output pixel (j/2, k/2)\n",
        "                    for c in range(self.out_channels):\n",
        "                        out[b, j // kernel_size, k // kernel_size, c] = q_results[c]\n",
        "\n",
        "\n",
        "        return out"
      ],
      "metadata": {
        "id": "7-eCPXua0cu4"
      },
      "execution_count": 3,
      "outputs": []
    },
    {
      "cell_type": "code",
      "source": [
        "# Test QonvLayer\n",
        "\n",
        "qonv = QonvLayer(circuit_layers=1, n_rotations=8, out_channels=4, stride=2)\n",
        "# qonv.draw()\n",
        "x = torch.rand(size=(1,28,28,1))\n",
        "\n",
        "# Check OonvLayer Output shape\n",
        "qonv(x).shape"
      ],
      "metadata": {
        "colab": {
          "base_uri": "https://localhost:8080/"
        },
        "id": "ETigFCDg0i0k",
        "outputId": "b60ed55b-4785-4e0e-f591-79e62b252ab0"
      },
      "execution_count": 5,
      "outputs": [
        {
          "output_type": "stream",
          "name": "stdout",
          "text": [
            "Initializing Circuit with random seed 9083070\n"
          ]
        },
        {
          "output_type": "execute_result",
          "data": {
            "text/plain": [
              "torch.Size([1, 14, 14, 4])"
            ]
          },
          "metadata": {},
          "execution_count": 5
        }
      ]
    },
    {
      "cell_type": "code",
      "source": [
        "def transform(x):\n",
        "    x = np.array(x)\n",
        "    x = x/255.0\n",
        "\n",
        "    return torch.from_numpy(x).float()"
      ],
      "metadata": {
        "id": "mMR2ELfj0lNY"
      },
      "execution_count": 6,
      "outputs": []
    },
    {
      "cell_type": "code",
      "source": [
        "def train(model, train_loader, epochs=50):\n",
        "    print(\"Starting Training for {} epochs\".format(epochs))\n",
        "\n",
        "    model.train()\n",
        "\n",
        "    optimizer = torch.optim.Adam(params=model.parameters(), lr=0.01)\n",
        "    criterion = torch.nn.CrossEntropyLoss()\n",
        "\n",
        "    losses = np.array([])\n",
        "    accs = np.array([])\n",
        "\n",
        "    for epoch in range(epochs):\n",
        "        for i, (x, y) in enumerate(train_loader):\n",
        "\n",
        "            # prepare inputs and labels\n",
        "            x = x.view(-1, 28, 28, 1)\n",
        "            y = y.long()\n",
        "\n",
        "            # reset optimizer\n",
        "            optimizer.zero_grad()\n",
        "\n",
        "            # engage\n",
        "            y_pred = model(x)\n",
        "\n",
        "            # error, gradients and optimization\n",
        "            loss = criterion(y_pred, y)\n",
        "            loss.backward()\n",
        "            optimizer.step()\n",
        "\n",
        "            # output\n",
        "            acc = accuracy_score(y, y_pred.argmax(-1).numpy())\n",
        "\n",
        "            accs = np.append(accs, acc)\n",
        "            losses = np.append(losses, loss.item())\n",
        "\n",
        "            # print(\"Epoch:\", epoch,\n",
        "            #       \"\\tStep:\", i,\n",
        "            #       \"\\tAcc:\", round(acc, 3),\n",
        "            #       \"\\tLoss:\", round(loss.item(),3),\n",
        "            #       \"\\tMean Loss:\", round(float(losses[-30:].mean()), 3),\n",
        "            #       \"\\tMean Acc:\", round(float(accs[-30:].mean()), 3)\n",
        "            #      )\n",
        "\n",
        "        print(epoch)\n",
        "        print(\"\\tMean Acc:\", round(float(accs[-30:].mean()), 3))    #\n",
        "        print(\"---------------------------------------\\n\")\n",
        "\n",
        "\n",
        "    return model, losses, accs"
      ],
      "metadata": {
        "id": "SwRi8bHk0qCS"
      },
      "execution_count": 9,
      "outputs": []
    },
    {
      "cell_type": "code",
      "source": [
        "# prepare dataset\n",
        "train_set = torchvision.datasets.MNIST(root='./mnist', train=True, download=True, transform=transform)\n",
        "test_set = torchvision.datasets.MNIST(root='./mnist', train=False, download=True, transform=transform)\n",
        "\n",
        "train_loader = torch.utils.data.DataLoader(dataset=train_set, batch_size=4)\n",
        "\n",
        "\n",
        "    \"\"\"\n",
        "    Model\n",
        "{\n",
        "    Quanvolutional_Layer((2x2))\n",
        "    Flatten\n",
        "    Linear(14x14x4, 10)\n",
        "\n",
        "}\n",
        "    \"\"\"\n",
        "\n",
        "# build the model\n",
        "model = torch.nn.Sequential(\n",
        "        QonvLayer(stride=2, circuit_layers=2, n_rotations=4, out_channels=4, seed=9321727),\n",
        "        torch.nn.Flatten(),\n",
        "        # torch.nn.Linear(in_features=14*14*4, out_features=10)\n",
        "\n",
        "        ##experimental\n",
        "        torch.nn.Linear(in_features=14*14*4, out_features=128),\n",
        "        torch.nn.ReLU(),\n",
        "        torch.nn.Linear(in_features=128, out_features=64),\n",
        "        torch.nn.ReLU(),\n",
        "        torch.nn.Linear(in_features=64, out_features=10),\n",
        "        torch.nn.Softmax(dim=1)\n",
        "        )\n",
        "\n",
        "# start training\n",
        "model, losses, accs = train(model, train_loader, epochs=1)\n",
        "\n",
        "# plot losses and accuracies\n",
        "fig, (ax1, ax2) = plt.subplots(1,2, figsize=(16, 4))\n",
        "ax1.plot(losses)\n",
        "ax1.set_title(\"Loss\")\n",
        "ax1.set_xlabel(\"Steps\")\n",
        "ax1.set_ylabel(\"Loss\")\n",
        "\n",
        "ax2.plot(accs)\n",
        "ax2.set_title(\"Accuracy\")\n",
        "ax2.set_xlabel(\"Steps\")\n",
        "ax2.set_ylabel(\"Accuracy\")"
      ],
      "metadata": {
        "colab": {
          "base_uri": "https://localhost:8080/"
        },
        "id": "Gjgs9w1O0q2Y",
        "outputId": "854895cc-ebf9-423b-a13d-51e24923acf6"
      },
      "execution_count": null,
      "outputs": [
        {
          "output_type": "stream",
          "name": "stdout",
          "text": [
            "Initializing Circuit with random seed 9321727\n",
            "Starting Training for 1 epochs\n"
          ]
        }
      ]
    },
    {
      "cell_type": "code",
      "source": [],
      "metadata": {
        "id": "bBXA_-hY1j3_"
      },
      "execution_count": null,
      "outputs": []
    }
  ]
}