{
  "metadata": {
    "kernelspec": {
      "language": "python",
      "display_name": "Python 3",
      "name": "python3"
    },
    "language_info": {
      "name": "python",
      "version": "3.10.12",
      "mimetype": "text/x-python",
      "codemirror_mode": {
        "name": "ipython",
        "version": 3
      },
      "pygments_lexer": "ipython3",
      "nbconvert_exporter": "python",
      "file_extension": ".py"
    },
    "kaggle": {
      "accelerator": "gpu",
      "dataSources": [
        {
          "sourceId": 123140,
          "sourceType": "datasetVersion",
          "datasetId": 63362
        }
      ],
      "dockerImageVersionId": 30627,
      "isInternetEnabled": true,
      "language": "python",
      "sourceType": "notebook",
      "isGpuEnabled": true
    },
    "colab": {
      "name": "Reference_notebook",
      "provenance": [],
      "include_colab_link": true
    }
  },
  "nbformat_minor": 0,
  "nbformat": 4,
  "cells": [
    {
      "cell_type": "markdown",
      "metadata": {
        "id": "view-in-github",
        "colab_type": "text"
      },
      "source": [
        "<a href=\"https://colab.research.google.com/github/jajapuramshivasai/projects_24/blob/main/Reference_notebook.ipynb\" target=\"_parent\"><img src=\"https://colab.research.google.com/assets/colab-badge.svg\" alt=\"Open In Colab\"/></a>"
      ]
    },
    {
      "source": [
        "\n",
        "# IMPORTANT: RUN THIS CELL IN ORDER TO IMPORT YOUR KAGGLE DATA SOURCES\n",
        "# TO THE CORRECT LOCATION (/kaggle/input) IN YOUR NOTEBOOK,\n",
        "# THEN FEEL FREE TO DELETE THIS CELL.\n",
        "# NOTE: THIS NOTEBOOK ENVIRONMENT DIFFERS FROM KAGGLE'S PYTHON\n",
        "# ENVIRONMENT SO THERE MAY BE MISSING LIBRARIES USED BY YOUR\n",
        "# NOTEBOOK.\n",
        "\n",
        "import os\n",
        "import sys\n",
        "from tempfile import NamedTemporaryFile\n",
        "from urllib.request import urlopen\n",
        "from urllib.parse import unquote, urlparse\n",
        "from urllib.error import HTTPError\n",
        "from zipfile import ZipFile\n",
        "import tarfile\n",
        "import shutil\n",
        "\n",
        "CHUNK_SIZE = 40960\n",
        "DATA_SOURCE_MAPPING = 'tig-aluminium-5083:https%3A%2F%2Fstorage.googleapis.com%2Fkaggle-data-sets%2F63362%2F123140%2Fbundle%2Farchive.zip%3FX-Goog-Algorithm%3DGOOG4-RSA-SHA256%26X-Goog-Credential%3Dgcp-kaggle-com%2540kaggle-161607.iam.gserviceaccount.com%252F20240807%252Fauto%252Fstorage%252Fgoog4_request%26X-Goog-Date%3D20240807T200410Z%26X-Goog-Expires%3D259200%26X-Goog-SignedHeaders%3Dhost%26X-Goog-Signature%3D5ac4a6cfb127fd9c0af0235cc069fa83b4360ea301892814307b43cf361a94a4a1ff94756add24617b6fe1411d109baf8f28617d63c2f1ccdb5bf0350f4d8dd744806fc2208558a47312ba99f5d109a3db33bbad0ab5d1ffacd75042c7ed6f984afa85cca08e341a221cde6530579b5cd8ef79596e605e1792fa4f25ef8aa233c265f3335eaf0471e7a4bfe043212f5a7479dcc56ac4e23d8d0b52ae618612a9e271b93ecc458dede64035cb0e7c85295386c531245c89cc0ac0313e4a252ba2371a9c7ae638202e042ac4cae9556a3ae8190097d68283dc7696fbd0f3e269bf4404beb085747484caceb1924e3fd9eab202ed88b7e595641dc0d3024b633ccb'\n",
        "\n",
        "KAGGLE_INPUT_PATH='/kaggle/input'\n",
        "KAGGLE_WORKING_PATH='/kaggle/working'\n",
        "KAGGLE_SYMLINK='kaggle'\n",
        "\n",
        "!umount /kaggle/input/ 2> /dev/null\n",
        "shutil.rmtree('/kaggle/input', ignore_errors=True)\n",
        "os.makedirs(KAGGLE_INPUT_PATH, 0o777, exist_ok=True)\n",
        "os.makedirs(KAGGLE_WORKING_PATH, 0o777, exist_ok=True)\n",
        "\n",
        "try:\n",
        "  os.symlink(KAGGLE_INPUT_PATH, os.path.join(\"..\", 'input'), target_is_directory=True)\n",
        "except FileExistsError:\n",
        "  pass\n",
        "try:\n",
        "  os.symlink(KAGGLE_WORKING_PATH, os.path.join(\"..\", 'working'), target_is_directory=True)\n",
        "except FileExistsError:\n",
        "  pass\n",
        "\n",
        "for data_source_mapping in DATA_SOURCE_MAPPING.split(','):\n",
        "    directory, download_url_encoded = data_source_mapping.split(':')\n",
        "    download_url = unquote(download_url_encoded)\n",
        "    filename = urlparse(download_url).path\n",
        "    destination_path = os.path.join(KAGGLE_INPUT_PATH, directory)\n",
        "    try:\n",
        "        with urlopen(download_url) as fileres, NamedTemporaryFile() as tfile:\n",
        "            total_length = fileres.headers['content-length']\n",
        "            print(f'Downloading {directory}, {total_length} bytes compressed')\n",
        "            dl = 0\n",
        "            data = fileres.read(CHUNK_SIZE)\n",
        "            while len(data) > 0:\n",
        "                dl += len(data)\n",
        "                tfile.write(data)\n",
        "                done = int(50 * dl / int(total_length))\n",
        "                sys.stdout.write(f\"\\r[{'=' * done}{' ' * (50-done)}] {dl} bytes downloaded\")\n",
        "                sys.stdout.flush()\n",
        "                data = fileres.read(CHUNK_SIZE)\n",
        "            if filename.endswith('.zip'):\n",
        "              with ZipFile(tfile) as zfile:\n",
        "                zfile.extractall(destination_path)\n",
        "            else:\n",
        "              with tarfile.open(tfile.name) as tarfile:\n",
        "                tarfile.extractall(destination_path)\n",
        "            print(f'\\nDownloaded and uncompressed: {directory}')\n",
        "    except HTTPError as e:\n",
        "        print(f'Failed to load (likely expired) {download_url} to path {destination_path}')\n",
        "        continue\n",
        "    except OSError as e:\n",
        "        print(f'Failed to load {download_url} to path {destination_path}')\n",
        "        continue\n",
        "\n",
        "print('Data source import complete.')\n"
      ],
      "metadata": {
        "id": "WhBi5mi6cSpX"
      },
      "cell_type": "code",
      "outputs": [],
      "execution_count": null
    },
    {
      "cell_type": "code",
      "source": [
        "import tensorflow as tf\n",
        "from tensorflow.keras import layers, models\n",
        "import json\n",
        "import os\n",
        "from PIL import Image\n",
        "import random\n",
        "import numpy as np\n",
        "import matplotlib.pyplot as plt"
      ],
      "metadata": {
        "_uuid": "8f2839f25d086af736a60e9eeb907d3b93b6e0e5",
        "_cell_guid": "b1076dfc-b9ad-4769-8c92-a6c4dae69d19",
        "execution": {
          "iopub.status.busy": "2024-08-07T17:35:16.957148Z",
          "iopub.execute_input": "2024-08-07T17:35:16.957456Z",
          "iopub.status.idle": "2024-08-07T17:35:28.553449Z",
          "shell.execute_reply.started": "2024-08-07T17:35:16.957405Z",
          "shell.execute_reply": "2024-08-07T17:35:28.552638Z"
        },
        "trusted": true,
        "id": "pYjC3asgcSpb"
      },
      "execution_count": null,
      "outputs": []
    },
    {
      "cell_type": "code",
      "source": [
        "train_json = '/kaggle/input/tig-aluminium-5083/al5083/train/train.json'\n",
        "\n",
        "with open(train_json, 'r') as json_file:\n",
        "    train_data_json = json.load(json_file)"
      ],
      "metadata": {
        "execution": {
          "iopub.status.busy": "2024-08-07T17:35:44.445875Z",
          "iopub.execute_input": "2024-08-07T17:35:44.446978Z",
          "iopub.status.idle": "2024-08-07T17:35:44.491298Z",
          "shell.execute_reply.started": "2024-08-07T17:35:44.446936Z",
          "shell.execute_reply": "2024-08-07T17:35:44.490327Z"
        },
        "trusted": true,
        "id": "mONQbMglcSpc"
      },
      "execution_count": null,
      "outputs": []
    },
    {
      "cell_type": "code",
      "source": [
        "label_names = [\"good weld\", \"burn through\", \"contamination\", \"lack of fusion\", \"misalignment\", \"lack of penetration\"]\n",
        "labels = [0, 1, 2, 3, 4, 5]\n",
        "one_hot_encoding = tf.keras.utils.to_categorical(labels, num_classes=6)\n",
        "label_count = [0, 0, 0, 0, 0, 0]"
      ],
      "metadata": {
        "execution": {
          "iopub.status.busy": "2024-08-07T17:35:46.554333Z",
          "iopub.execute_input": "2024-08-07T17:35:46.555208Z",
          "iopub.status.idle": "2024-08-07T17:35:46.560221Z",
          "shell.execute_reply.started": "2024-08-07T17:35:46.555174Z",
          "shell.execute_reply": "2024-08-07T17:35:46.559275Z"
        },
        "trusted": true,
        "id": "vEvg1vqLcSpc"
      },
      "execution_count": null,
      "outputs": []
    },
    {
      "cell_type": "code",
      "source": [
        "for l in train_data_json:\n",
        "    label_count[train_data_json[l]] += 1\n",
        "\n",
        "label_count"
      ],
      "metadata": {
        "execution": {
          "iopub.status.busy": "2024-08-07T17:35:48.255669Z",
          "iopub.execute_input": "2024-08-07T17:35:48.256027Z",
          "iopub.status.idle": "2024-08-07T17:35:48.271263Z",
          "shell.execute_reply.started": "2024-08-07T17:35:48.255996Z",
          "shell.execute_reply": "2024-08-07T17:35:48.270366Z"
        },
        "trusted": true,
        "id": "yWLTHR23cSpc"
      },
      "execution_count": null,
      "outputs": []
    },
    {
      "cell_type": "code",
      "source": [
        "all_data = []\n",
        "image_size = (256, 256)\n",
        "label_count = [0, 0, 0, 0, 0, 0]"
      ],
      "metadata": {
        "execution": {
          "iopub.status.busy": "2024-08-07T17:35:49.813778Z",
          "iopub.execute_input": "2024-08-07T17:35:49.814634Z",
          "iopub.status.idle": "2024-08-07T17:35:49.818833Z",
          "shell.execute_reply.started": "2024-08-07T17:35:49.814601Z",
          "shell.execute_reply": "2024-08-07T17:35:49.817921Z"
        },
        "trusted": true,
        "id": "mic4c9tVcSpc"
      },
      "execution_count": null,
      "outputs": []
    },
    {
      "cell_type": "code",
      "source": [
        "def load_data(path):\n",
        "    for folder in os.listdir(path):\n",
        "        folder_path = os.path.join(path, folder)\n",
        "        if(os.path.isdir(folder_path)):\n",
        "            for img_name in os.listdir(folder_path):\n",
        "\n",
        "                img_path = os.path.join(folder_path, img_name)\n",
        "                key_name = folder + '/' + img_name\n",
        "                label = train_data_json[key_name]\n",
        "\n",
        "                if(label_count[label] > 2000):\n",
        "                    continue\n",
        "\n",
        "                label_count[label] += 1\n",
        "                image = Image.open(img_path).resize(image_size)\n",
        "                image = tf.convert_to_tensor(image)\n",
        "                all_data.append((image, one_hot_encoding[label]))\n",
        "\n",
        "                if(len(all_data)%100==0):\n",
        "                    print(f\"Total images loaded : {len(all_data)}, Label count : {label_count}\", end = '\\r')"
      ],
      "metadata": {
        "execution": {
          "iopub.status.busy": "2024-08-07T17:35:51.377989Z",
          "iopub.execute_input": "2024-08-07T17:35:51.378604Z",
          "iopub.status.idle": "2024-08-07T17:35:51.386217Z",
          "shell.execute_reply.started": "2024-08-07T17:35:51.37857Z",
          "shell.execute_reply": "2024-08-07T17:35:51.385207Z"
        },
        "trusted": true,
        "id": "YH0UY1OrcSpd"
      },
      "execution_count": null,
      "outputs": []
    },
    {
      "cell_type": "code",
      "source": [
        "load_data('/kaggle/input/tig-aluminium-5083/al5083/train')"
      ],
      "metadata": {
        "execution": {
          "iopub.status.busy": "2024-08-07T17:35:52.934322Z",
          "iopub.execute_input": "2024-08-07T17:35:52.934706Z",
          "iopub.status.idle": "2024-08-07T17:39:25.970834Z",
          "shell.execute_reply.started": "2024-08-07T17:35:52.934676Z",
          "shell.execute_reply": "2024-08-07T17:39:25.969942Z"
        },
        "trusted": true,
        "id": "wiJs9fpzcSpd"
      },
      "execution_count": null,
      "outputs": []
    },
    {
      "cell_type": "code",
      "source": [
        "random.shuffle(all_data)"
      ],
      "metadata": {
        "execution": {
          "iopub.status.busy": "2024-08-07T17:39:25.972641Z",
          "iopub.execute_input": "2024-08-07T17:39:25.97293Z",
          "iopub.status.idle": "2024-08-07T17:39:25.987204Z",
          "shell.execute_reply.started": "2024-08-07T17:39:25.972903Z",
          "shell.execute_reply": "2024-08-07T17:39:25.986271Z"
        },
        "trusted": true,
        "id": "i57RgVlfcSpd"
      },
      "execution_count": null,
      "outputs": []
    },
    {
      "cell_type": "code",
      "source": [
        "X = []\n",
        "y = []\n",
        "\n",
        "for data in all_data:\n",
        "    X.append(data[0])\n",
        "    y.append(data[1])"
      ],
      "metadata": {
        "execution": {
          "iopub.status.busy": "2024-08-07T17:39:25.988503Z",
          "iopub.execute_input": "2024-08-07T17:39:25.989362Z",
          "iopub.status.idle": "2024-08-07T17:39:26.004742Z",
          "shell.execute_reply.started": "2024-08-07T17:39:25.989327Z",
          "shell.execute_reply": "2024-08-07T17:39:26.003914Z"
        },
        "trusted": true,
        "id": "3HJATM4ycSpd"
      },
      "execution_count": null,
      "outputs": []
    },
    {
      "cell_type": "code",
      "source": [
        "rand_num = np.random.randint(low = 0, high = len(all_data))\n",
        "X[rand_num], y[rand_num]"
      ],
      "metadata": {
        "execution": {
          "iopub.status.busy": "2024-08-07T17:39:26.006596Z",
          "iopub.execute_input": "2024-08-07T17:39:26.006858Z",
          "iopub.status.idle": "2024-08-07T17:39:26.018935Z",
          "shell.execute_reply.started": "2024-08-07T17:39:26.006834Z",
          "shell.execute_reply": "2024-08-07T17:39:26.018119Z"
        },
        "trusted": true,
        "id": "3Dn1g_uvcSpd"
      },
      "execution_count": null,
      "outputs": []
    },
    {
      "cell_type": "code",
      "source": [
        "for _ in range(5):\n",
        "    rand_img = np.random.randint(low = 0, high = len(X))\n",
        "    plt.imshow(X[rand_img], cmap='gray')\n",
        "    plt.show()\n",
        "    print(f\"Label : {label_names[np.argmax(y[rand_img])]}\")"
      ],
      "metadata": {
        "execution": {
          "iopub.status.busy": "2024-08-07T17:39:26.01986Z",
          "iopub.execute_input": "2024-08-07T17:39:26.020147Z",
          "iopub.status.idle": "2024-08-07T17:39:27.470435Z",
          "shell.execute_reply.started": "2024-08-07T17:39:26.02012Z",
          "shell.execute_reply": "2024-08-07T17:39:27.469469Z"
        },
        "trusted": true,
        "id": "B5E8BmsbcSpe"
      },
      "execution_count": null,
      "outputs": []
    },
    {
      "cell_type": "code",
      "source": [
        "total_data = len(X)\n",
        "X_train, y_train = X[:int(total_data*0.8)], y[:int(total_data*0.8)]\n",
        "X_test, y_test = X[int(total_data*0.8):], y[int(total_data*0.8):]"
      ],
      "metadata": {
        "execution": {
          "iopub.status.busy": "2024-08-07T17:39:27.471473Z",
          "iopub.execute_input": "2024-08-07T17:39:27.471734Z",
          "iopub.status.idle": "2024-08-07T17:39:27.477601Z",
          "shell.execute_reply.started": "2024-08-07T17:39:27.471711Z",
          "shell.execute_reply": "2024-08-07T17:39:27.476589Z"
        },
        "trusted": true,
        "id": "qt6uFJ4EcSpe"
      },
      "execution_count": null,
      "outputs": []
    },
    {
      "cell_type": "code",
      "source": [
        "X_train = tf.convert_to_tensor(X_train, dtype=tf.float32)\n",
        "y_train = tf.convert_to_tensor(y_train, dtype=tf.float32)\n",
        "X_test = tf.convert_to_tensor(X_test, dtype=tf.float32)\n",
        "y_test = tf.convert_to_tensor(y_test, dtype=tf.float32)"
      ],
      "metadata": {
        "execution": {
          "iopub.status.busy": "2024-08-07T17:39:27.478741Z",
          "iopub.execute_input": "2024-08-07T17:39:27.47901Z",
          "iopub.status.idle": "2024-08-07T17:39:28.864728Z",
          "shell.execute_reply.started": "2024-08-07T17:39:27.478986Z",
          "shell.execute_reply": "2024-08-07T17:39:28.863917Z"
        },
        "trusted": true,
        "id": "gAKYFPehcSpe"
      },
      "execution_count": null,
      "outputs": []
    },
    {
      "cell_type": "code",
      "source": [
        "X_train.shape, y_train.shape, X_test.shape, y_test.shape"
      ],
      "metadata": {
        "execution": {
          "iopub.status.busy": "2024-08-07T17:39:28.865848Z",
          "iopub.execute_input": "2024-08-07T17:39:28.866143Z",
          "iopub.status.idle": "2024-08-07T17:39:28.87231Z",
          "shell.execute_reply.started": "2024-08-07T17:39:28.866118Z",
          "shell.execute_reply": "2024-08-07T17:39:28.871348Z"
        },
        "trusted": true,
        "id": "l2Or-HnucSpe"
      },
      "execution_count": null,
      "outputs": []
    },
    {
      "cell_type": "code",
      "source": [
        "X_train = tf.reshape(X_train, shape=(len(X_train), 256, 256, 1))\n",
        "X_test = tf.reshape(X_test, shape=(len(X_test), 256, 256, 1))\n",
        "\n",
        "X_train.shape, y_train.shape"
      ],
      "metadata": {
        "execution": {
          "iopub.status.busy": "2024-08-07T17:39:28.873309Z",
          "iopub.execute_input": "2024-08-07T17:39:28.873608Z",
          "iopub.status.idle": "2024-08-07T17:39:28.891158Z",
          "shell.execute_reply.started": "2024-08-07T17:39:28.873584Z",
          "shell.execute_reply": "2024-08-07T17:39:28.890234Z"
        },
        "trusted": true,
        "id": "n_1PuDBKcSpe"
      },
      "execution_count": null,
      "outputs": []
    },
    {
      "cell_type": "code",
      "source": [
        "from tensorflow.keras import layers, regularizers\n",
        "\n",
        "class MyModel(tf.keras.Model):\n",
        "\n",
        "    def __init__(self, l2_reg=0.01):\n",
        "        super().__init__()\n",
        "        self.conv1 = layers.Conv2D(256, (3, 3), activation='relu', padding='same', input_shape=(image_size[0], image_size[1], 1), kernel_regularizer=regularizers.l2(l2_reg))\n",
        "        self.pool1 = layers.MaxPooling2D((2, 2))\n",
        "        self.dropout1 = layers.Dropout(0.2)\n",
        "\n",
        "        self.conv4 = layers.Conv2D(128, (3, 3), activation='relu', padding='same', kernel_regularizer=regularizers.l2(l2_reg))\n",
        "        self.pool4 = layers.MaxPooling2D((2, 2))\n",
        "        self.dropout3 = layers.Dropout(0.2)\n",
        "\n",
        "        self.conv5 = layers.Conv2D(64, (3, 3), activation='relu', kernel_regularizer=regularizers.l2(l2_reg))\n",
        "        self.pool5 = layers.MaxPooling2D((2, 2))\n",
        "\n",
        "        self.flatten = layers.Flatten()\n",
        "\n",
        "        self.dense1 = layers.Dense(256, activation='relu', kernel_regularizer=regularizers.l2(l2_reg))\n",
        "        self.dense2 = layers.Dense(128, activation='relu', kernel_regularizer=regularizers.l2(l2_reg))\n",
        "        self.dense3 = layers.Dense(len(labels), activation='softmax')\n",
        "\n",
        "    def call(self, inputs):\n",
        "        x = self.conv1(inputs)\n",
        "        x = self.pool1(x)\n",
        "        x = self.dropout1(x)\n",
        "\n",
        "        x = self.conv4(x)\n",
        "        x = self.pool4(x)\n",
        "        x = self.dropout3(x)\n",
        "\n",
        "        x = self.conv5(x)\n",
        "        x = self.pool5(x)\n",
        "\n",
        "        x = self.flatten(x)\n",
        "\n",
        "        x = self.dense1(x)\n",
        "        x = self.dense2(x)\n",
        "        output = self.dense3(x)\n",
        "\n",
        "        return output\n"
      ],
      "metadata": {
        "execution": {
          "iopub.status.busy": "2024-08-07T17:39:28.893619Z",
          "iopub.execute_input": "2024-08-07T17:39:28.893882Z",
          "iopub.status.idle": "2024-08-07T17:39:28.905533Z",
          "shell.execute_reply.started": "2024-08-07T17:39:28.893859Z",
          "shell.execute_reply": "2024-08-07T17:39:28.904717Z"
        },
        "trusted": true,
        "id": "61s3wUAccSpe"
      },
      "execution_count": null,
      "outputs": []
    },
    {
      "cell_type": "code",
      "source": [
        "model = MyModel()\n",
        "\n",
        "model.compile(\n",
        "    optimizer = tf.keras.optimizers.Adam(learning_rate=1e-5),\n",
        "    loss=tf.keras.losses.CategoricalCrossentropy(),\n",
        "    metrics=['accuracy']\n",
        ")"
      ],
      "metadata": {
        "execution": {
          "iopub.status.busy": "2024-08-07T17:39:28.906463Z",
          "iopub.execute_input": "2024-08-07T17:39:28.906733Z",
          "iopub.status.idle": "2024-08-07T17:39:28.975206Z",
          "shell.execute_reply.started": "2024-08-07T17:39:28.906709Z",
          "shell.execute_reply": "2024-08-07T17:39:28.974474Z"
        },
        "trusted": true,
        "id": "z1qXSkZ9cSpf"
      },
      "execution_count": null,
      "outputs": []
    },
    {
      "cell_type": "code",
      "source": [
        "print(f\"Train dataset Size : {len(X_train)}\\nTest Dataset size : {len(X_test)}\")"
      ],
      "metadata": {
        "execution": {
          "iopub.status.busy": "2024-08-07T17:39:28.976221Z",
          "iopub.execute_input": "2024-08-07T17:39:28.976497Z",
          "iopub.status.idle": "2024-08-07T17:39:28.98135Z",
          "shell.execute_reply.started": "2024-08-07T17:39:28.976469Z",
          "shell.execute_reply": "2024-08-07T17:39:28.980533Z"
        },
        "trusted": true,
        "id": "gP5wUM--cSpf"
      },
      "execution_count": null,
      "outputs": []
    },
    {
      "cell_type": "code",
      "source": [
        "callback1 = tf.keras.callbacks.ModelCheckpoint(\n",
        "    filepath='/model',\n",
        "    monitor = 'val_accuracy',\n",
        "    verbose = 1,\n",
        "    save_best_only = True,\n",
        "    save_weights_only = True,\n",
        ")"
      ],
      "metadata": {
        "execution": {
          "iopub.status.busy": "2024-08-07T17:39:28.982614Z",
          "iopub.execute_input": "2024-08-07T17:39:28.982883Z",
          "iopub.status.idle": "2024-08-07T17:39:28.990841Z",
          "shell.execute_reply.started": "2024-08-07T17:39:28.98286Z",
          "shell.execute_reply": "2024-08-07T17:39:28.989904Z"
        },
        "trusted": true,
        "id": "UawufN20cSpf"
      },
      "execution_count": null,
      "outputs": []
    },
    {
      "cell_type": "code",
      "source": [
        "model.fit(x=X_train, y=y_train, epochs=23, validation_data=(X_test, y_test), callbacks=[callback1])"
      ],
      "metadata": {
        "execution": {
          "iopub.status.busy": "2024-08-07T17:39:34.74821Z",
          "iopub.execute_input": "2024-08-07T17:39:34.749044Z",
          "iopub.status.idle": "2024-08-07T18:22:00.029137Z",
          "shell.execute_reply.started": "2024-08-07T17:39:34.749008Z",
          "shell.execute_reply": "2024-08-07T18:22:00.028194Z"
        },
        "trusted": true,
        "id": "GzKTEJWmcSpf"
      },
      "execution_count": null,
      "outputs": []
    },
    {
      "cell_type": "code",
      "source": [
        "model.load_weights('/model')"
      ],
      "metadata": {
        "execution": {
          "iopub.status.busy": "2024-08-07T18:22:00.033885Z",
          "iopub.execute_input": "2024-08-07T18:22:00.034167Z",
          "iopub.status.idle": "2024-08-07T18:22:00.317325Z",
          "shell.execute_reply.started": "2024-08-07T18:22:00.034144Z",
          "shell.execute_reply": "2024-08-07T18:22:00.316469Z"
        },
        "trusted": true,
        "id": "CkpU55f0cSpf"
      },
      "execution_count": null,
      "outputs": []
    },
    {
      "cell_type": "code",
      "source": [
        "# model.save('C_model.h5')\n",
        "model.save('C_model.Keras')"
      ],
      "metadata": {
        "execution": {
          "iopub.status.busy": "2024-08-07T18:23:29.017344Z",
          "iopub.execute_input": "2024-08-07T18:23:29.017701Z",
          "iopub.status.idle": "2024-08-07T18:23:30.960814Z",
          "shell.execute_reply.started": "2024-08-07T18:23:29.017672Z",
          "shell.execute_reply": "2024-08-07T18:23:30.959985Z"
        },
        "trusted": true,
        "id": "NwzCKXRXcSpf"
      },
      "execution_count": null,
      "outputs": []
    },
    {
      "cell_type": "code",
      "source": [
        "!zip -r file.zip /kaggle/working"
      ],
      "metadata": {
        "execution": {
          "iopub.status.busy": "2024-08-07T18:31:57.489487Z",
          "iopub.execute_input": "2024-08-07T18:31:57.490459Z",
          "iopub.status.idle": "2024-08-07T18:32:07.308559Z",
          "shell.execute_reply.started": "2024-08-07T18:31:57.490397Z",
          "shell.execute_reply": "2024-08-07T18:32:07.307569Z"
        },
        "trusted": true,
        "id": "8-OUfXUrcSpg"
      },
      "execution_count": null,
      "outputs": []
    },
    {
      "cell_type": "code",
      "source": [
        "!ls"
      ],
      "metadata": {
        "execution": {
          "iopub.status.busy": "2024-08-07T18:33:29.331949Z",
          "iopub.execute_input": "2024-08-07T18:33:29.332304Z",
          "iopub.status.idle": "2024-08-07T18:33:30.443512Z",
          "shell.execute_reply.started": "2024-08-07T18:33:29.332276Z",
          "shell.execute_reply": "2024-08-07T18:33:30.442304Z"
        },
        "trusted": true,
        "id": "J77MFq17cSpg"
      },
      "execution_count": null,
      "outputs": []
    },
    {
      "cell_type": "code",
      "source": [
        "from IPython.display import FileLink\n",
        "FileLink(r'file.zip')\n"
      ],
      "metadata": {
        "execution": {
          "iopub.status.busy": "2024-08-07T18:33:49.180226Z",
          "iopub.execute_input": "2024-08-07T18:33:49.18138Z",
          "iopub.status.idle": "2024-08-07T18:33:49.189208Z",
          "shell.execute_reply.started": "2024-08-07T18:33:49.181326Z",
          "shell.execute_reply": "2024-08-07T18:33:49.188239Z"
        },
        "trusted": true,
        "id": "6gwd7vdocSpg"
      },
      "execution_count": null,
      "outputs": []
    },
    {
      "cell_type": "code",
      "source": [
        "loaded_model = tf.keras.models.load_model('C_model.Keras')"
      ],
      "metadata": {
        "execution": {
          "iopub.status.busy": "2024-08-07T18:32:45.234857Z",
          "iopub.execute_input": "2024-08-07T18:32:45.235263Z",
          "iopub.status.idle": "2024-08-07T18:32:45.95676Z",
          "shell.execute_reply.started": "2024-08-07T18:32:45.235228Z",
          "shell.execute_reply": "2024-08-07T18:32:45.955786Z"
        },
        "trusted": true,
        "id": "f5MZLcF-cSpg"
      },
      "execution_count": null,
      "outputs": []
    },
    {
      "cell_type": "code",
      "source": [
        "predictions = loaded_model.predict(X_test)"
      ],
      "metadata": {
        "execution": {
          "iopub.status.busy": "2024-08-07T18:33:56.168972Z",
          "iopub.execute_input": "2024-08-07T18:33:56.170032Z",
          "iopub.status.idle": "2024-08-07T18:33:58.977976Z",
          "shell.execute_reply.started": "2024-08-07T18:33:56.169986Z",
          "shell.execute_reply": "2024-08-07T18:33:58.977196Z"
        },
        "trusted": true,
        "id": "lxDnyUbWcSpg"
      },
      "execution_count": null,
      "outputs": []
    },
    {
      "cell_type": "code",
      "source": [
        "for _ in range(5):\n",
        "    rand_img = np.random.randint(low = 0, high = len(X_test))\n",
        "    plt.imshow(X_test[rand_img].numpy(), cmap='gray')\n",
        "    plt.show()\n",
        "    print(f\"Prediction : {label_names[np.argmax(predictions[rand_img])]}\")\n",
        "    print(f\"Original : {label_names[np.argmax(y_test[rand_img])]}\")"
      ],
      "metadata": {
        "execution": {
          "iopub.status.busy": "2024-08-07T18:34:02.52607Z",
          "iopub.execute_input": "2024-08-07T18:34:02.526458Z",
          "iopub.status.idle": "2024-08-07T18:34:03.808874Z",
          "shell.execute_reply.started": "2024-08-07T18:34:02.526415Z",
          "shell.execute_reply": "2024-08-07T18:34:03.807962Z"
        },
        "trusted": true,
        "id": "OEiZoWjacSpg"
      },
      "execution_count": null,
      "outputs": []
    },
    {
      "cell_type": "code",
      "source": [
        "train_metric = model.evaluate(X_train, y_train, verbose=0)\n",
        "print(f\"Training Loss : {train_metric[0]} , Training Accuracy : {train_metric[1]}\")"
      ],
      "metadata": {
        "execution": {
          "iopub.status.busy": "2024-08-07T18:34:12.730666Z",
          "iopub.execute_input": "2024-08-07T18:34:12.731298Z",
          "iopub.status.idle": "2024-08-07T18:34:23.325442Z",
          "shell.execute_reply.started": "2024-08-07T18:34:12.731262Z",
          "shell.execute_reply": "2024-08-07T18:34:23.324478Z"
        },
        "trusted": true,
        "id": "gwEWZZa4cSpg"
      },
      "execution_count": null,
      "outputs": []
    },
    {
      "cell_type": "code",
      "source": [
        "test_metric = loaded_model.evaluate(X_test, y_test, verbose=0)\n",
        "print(f\"Testing Loss : {test_metric[0]} , Testing Accuracy : {test_metric[1]}\")"
      ],
      "metadata": {
        "execution": {
          "iopub.status.busy": "2024-08-07T18:34:40.009156Z",
          "iopub.execute_input": "2024-08-07T18:34:40.010217Z",
          "iopub.status.idle": "2024-08-07T18:34:42.832986Z",
          "shell.execute_reply.started": "2024-08-07T18:34:40.010178Z",
          "shell.execute_reply": "2024-08-07T18:34:42.832018Z"
        },
        "trusted": true,
        "id": "XpSynXsOcSpg"
      },
      "execution_count": null,
      "outputs": []
    },
    {
      "cell_type": "code",
      "source": [],
      "metadata": {
        "id": "05EtcyDScSph"
      },
      "execution_count": null,
      "outputs": []
    }
  ]
}