{
  "cells": [
    {
      "cell_type": "markdown",
      "metadata": {
        "id": "view-in-github",
        "colab_type": "text"
      },
      "source": [
        "<a href=\"https://colab.research.google.com/github/jajapuramshivasai/projects_24/blob/main/quantum_2D_wave.ipynb\" target=\"_parent\"><img src=\"https://colab.research.google.com/assets/colab-badge.svg\" alt=\"Open In Colab\"/></a>"
      ]
    },
    {
      "cell_type": "markdown",
      "id": "e6df55a1-14bf-46a5-b889-12788fbe3e71",
      "metadata": {
        "id": "e6df55a1-14bf-46a5-b889-12788fbe3e71"
      },
      "source": [
        "## The 2D wave equation\n"
      ]
    },
    {
      "cell_type": "markdown",
      "id": "7257f519-c140-405c-a115-f30335ecdb90",
      "metadata": {
        "id": "7257f519-c140-405c-a115-f30335ecdb90"
      },
      "source": [
        "We let\n",
        "$\n",
        "u(x, y,t) $= deflection of membrane from equilibrium a\n",
        "positio$n (x, $y) a $time$\n",
        "t."
      ]
    },
    {
      "cell_type": "markdown",
      "id": "e37dc7de-4c8f-4c6d-9a90-a5a64078518a",
      "metadata": {
        "id": "e37dc7de-4c8f-4c6d-9a90-a5a64078518a"
      },
      "source": [
        "For a fixed $t$, the surface $z = u(x, y,t)$ gives the shape of the\n",
        "membrane at time $ $t\n",
        "\n",
        "Under ideal assumptions (e.g. uniform membrane density, uniform\n",
        "tension, no resistance to motion, small deflection, etc.) one can\n",
        "show that u satisfies th*e two dimensional wave equati*on."
      ]
    },
    {
      "cell_type": "markdown",
      "id": "b76628d8-d69d-48c1-8de7-2fd053f21281",
      "metadata": {
        "id": "b76628d8-d69d-48c1-8de7-2fd053f21281"
      },
      "source": [
        "$Utt = C^2 \\nabla^2 u = C^2(Uxx + Uyy)$  for 0 < x < a, 0 < y < b"
      ]
    },
    {
      "cell_type": "markdown",
      "id": "582108d0-f474-41ae-98cf-724d143887aa",
      "metadata": {
        "id": "582108d0-f474-41ae-98cf-724d143887aa"
      },
      "source": [
        "For the derivation of the wave equation from Newton’s second\n",
        "law *which state that the acceleration of an object is directly related to the not force and inversely related to its mass*\n",
        "\n",
        "As in the one dimensional situation, the constant c has the\n",
        "units of velocity. It is give by,"
      ]
    },
    {
      "cell_type": "markdown",
      "id": "1cea8e7a-3e30-4de6-8323-e2768196fd81",
      "metadata": {
        "id": "1cea8e7a-3e30-4de6-8323-e2768196fd81"
      },
      "source": [
        "$C^2 = \\frac{\\tau}{\\rho}$\n",
        "\n",
        "where τ is the tension per unit length, and ρ is mass density"
      ]
    },
    {
      "cell_type": "markdown",
      "id": "c5c5a14a-e8f2-4fe4-ad2f-e38fe9462e9e",
      "metadata": {
        "id": "c5c5a14a-e8f2-4fe4-ad2f-e38fe9462e9e"
      },
      "source": [
        "The operator $\\nabla^2 = \\frac{d^2}{dx^2} + \\frac{d^2}{dy^2}$  \n",
        "\n",
        "is called the *Laplacian*. It will appear in many of our\n",
        "subsequent investigations."
      ]
    },
    {
      "cell_type": "markdown",
      "id": "0fd15d12-5a5c-42c3-a296-37dfb7df6ca6",
      "metadata": {
        "id": "0fd15d12-5a5c-42c3-a296-37dfb7df6ca6"
      },
      "source": [
        "The fact that we are keeping the edges of the membrane fixed is expressed by the boundary conditions. s"
      ]
    },
    {
      "cell_type": "markdown",
      "id": "07fbb215-afa1-4c5c-acaa-cf9c0d53066c",
      "metadata": {
        "id": "07fbb215-afa1-4c5c-acaa-cf9c0d53066c"
      },
      "source": [
        "$u(0,y,t) = u(a,y,t) =0$       where                       $0 < y < b, t > 0,$\n",
        "\n",
        "$u(x,0,t) = u(x,b,t) =0$       where                       $0 < x < a, t > 0,$"
      ]
    },
    {
      "cell_type": "markdown",
      "id": "0c0e9938-f1e7-4beb-b166-b878e0325fe9",
      "metadata": {
        "id": "0c0e9938-f1e7-4beb-b166-b878e0325fe9"
      },
      "source": [
        "We must also specify how the membrane is initially deformed and\n",
        "set into motion. This is done via the initial conditions"
      ]
    },
    {
      "cell_type": "markdown",
      "id": "59ab2601-58c2-4d5e-891a-7e26939540ec",
      "metadata": {
        "id": "59ab2601-58c2-4d5e-891a-7e26939540ec"
      },
      "source": [
        "$u(x,y,0) = f(x,y)$       where                       $(x,y) \\epsilon R $\n",
        "\n",
        "$u(x,y,0) = g(x,y)$      where                       $(x,y) \\epsilon R$\n",
        "\n",
        "where $R = [0,a] * [0, b]$"
      ]
    },
    {
      "cell_type": "markdown",
      "id": "ea7136f4-6f6d-438f-b8aa-c1eccba0bf21",
      "metadata": {
        "id": "ea7136f4-6f6d-438f-b8aa-c1eccba0bf21"
      },
      "source": [
        "Goal: Write down a solution to the wave equation (1) subject to\n",
        "the boundary conditions (2) and initial conditions (3\n",
        "\n",
        "Process:\n",
        "1. using separation of variables to produce simple solutions to\n",
        "(1) and (2.\n",
        "\n",
        "2. and then the principle of superposition to build up a\n",
        "solution that satisfies (3) as well.ll.)"
      ]
    },
    {
      "cell_type": "markdown",
      "id": "72eeaa75-e2ad-4277-b4a9-809d1b04739c",
      "metadata": {
        "id": "72eeaa75-e2ad-4277-b4a9-809d1b04739c"
      },
      "source": [
        "Assembling our results, we find that for any pair m, n ≥ 1 we have\n",
        "the normal mod.\n",
        "e"
      ]
    },
    {
      "cell_type": "markdown",
      "id": "788836e5-5665-4032-9095-54ad5ed8a55e",
      "metadata": {
        "id": "788836e5-5665-4032-9095-54ad5ed8a55e"
      },
      "source": [
        "$Umn(x,y,t) = Xm(x)Yn(y)T(mn)(t)  = sin \\mu x sin vnY(B(mn) cos \\lambda (mn)t + B*mn sin\\lambda (mn)t)$"
      ]
    },
    {
      "cell_type": "markdown",
      "id": "c272cbe3-f202-4c90-b591-c75d99956ceb",
      "metadata": {
        "id": "c272cbe3-f202-4c90-b591-c75d99956ceb"
      },
      "source": [
        "where\n",
        "\n",
        "$\\mu m = \\frac{m\\pi}{a}, Vn = {n\\pi}{b}, \\lambda mn = c \\sqrt{\\mu^2m + v^2n} $"
      ]
    },
    {
      "cell_type": "code",
      "source": [],
      "metadata": {
        "id": "mUkLdB0sFYAg"
      },
      "id": "mUkLdB0sFYAg",
      "execution_count": null,
      "outputs": []
    },
    {
      "cell_type": "markdown",
      "source": [
        "The HHL (Harrow, Hassidim, Lloyd) algorithm is a quantum algorithm designed to solve linear systems of equations. Specifically, given a matrix\n",
        "A\n",
        "A and a vector\n",
        "b\n",
        "b, it finds the vector\n",
        "x\n",
        "x such that\n",
        "A\n",
        "x\n",
        "=\n",
        "b\n",
        "Ax=b. Implementing the HHL algorithm requires a quantum computing environment and involves several key steps including quantum phase estimation, controlled rotations, and inverse quantum Fourier transforms.\n",
        "\n",
        "I'll outline the main steps of the HHL algorithm and then provide a basic implementation using the Qiskit library, which is a popular quantum computing framework.\n",
        "\n",
        "Main Steps of the HHL Algorithm:\n",
        "Preparation of the quantum state: Encode the vector\n",
        "b\n",
        "b into a quantum state.\n",
        "Quantum Phase Estimation (QPE): Apply QPE to estimate the eigenvalues of the matrix\n",
        "A\n",
        "A.\n",
        "Controlled Rotation: Perform rotations conditioned on the estimated eigenvalues.\n",
        "Inverse Quantum Phase Estimation: Apply the inverse QPE to uncompute the eigenvalue estimation.\n",
        "Measurement and Post-Processing: Measure the quantum state and post-process the results to obtain the solution vector\n",
        "x\n",
        "x.\n"
      ],
      "metadata": {
        "id": "3iYMdM5EGT_X"
      },
      "id": "3iYMdM5EGT_X"
    },
    {
      "cell_type": "code",
      "source": [
        "!pip install qiskit\n"
      ],
      "metadata": {
        "id": "q5NBsF3ZGTf3"
      },
      "id": "q5NBsF3ZGTf3",
      "execution_count": null,
      "outputs": []
    },
    {
      "cell_type": "code",
      "source": [
        "import numpy as np\n",
        "from qiskit import Aer, QuantumCircuit, transpile, assemble, execute\n",
        "from qiskit.visualization import plot_histogram\n",
        "from qiskit.extensions import Initialize\n",
        "from qiskit.quantum_info import Statevector\n",
        "from qiskit.aqua.algorithms import HHL\n",
        "from qiskit.aqua.components.initial_states import Custom\n",
        "\n",
        "# Define the matrix A and vector b\n",
        "A = np.array([[1, -1/3], [-1/3, 1]])\n",
        "b = np.array([1, 0])\n",
        "\n",
        "# Normalize vector b and create the initial state\n",
        "b = b / np.linalg.norm(b)\n",
        "init_state = Custom(2, state_vector=Statevector(b))\n",
        "\n",
        "# Create HHL instance with matrix A and initial state\n",
        "hhl = HHL(A, init_state)\n",
        "\n",
        "# Use the Aer simulator to run the algorithm\n",
        "backend = Aer.get_backend('statevector_simulator')\n",
        "result = hhl.run(backend)\n",
        "\n",
        "# Extract and print the solution\n",
        "x = result['solution']\n",
        "print('Solution vector x:', x)\n",
        "\n",
        "# Verify the solution by multiplying A and x\n",
        "Ax = np.dot(A, x)\n",
        "print('Ax:', Ax)\n",
        "print('Original vector b:', b)\n"
      ],
      "metadata": {
        "id": "wwuMYweNGcnP"
      },
      "id": "wwuMYweNGcnP",
      "execution_count": null,
      "outputs": []
    },
    {
      "cell_type": "code",
      "source": [
        "\"\"\"\n",
        "HAMILTON\n",
        "\n",
        "\"\"\""
      ],
      "metadata": {
        "id": "lu-Upe2uGekc"
      },
      "id": "lu-Upe2uGekc",
      "execution_count": null,
      "outputs": []
    },
    {
      "cell_type": "markdown",
      "source": [
        "The Crank-Nicolson method is a popular implicit finite difference method used for numerically solving partial differential equations (PDEs). It is especially known for its stability and accuracy. The method is based on the trapezoidal rule and is second-order accurate in both time and space.\n",
        "\n",
        "\n",
        "\n",
        "#Implementation Steps#\n",
        "Initialize the grid and parameters: Define the spatial and temporal grid, the wave speed\n",
        "c\n",
        "c, and the initial conditions for\n",
        "u\n",
        "u and its first time derivative.\n",
        "\n",
        "Boundary conditions: Apply the necessary boundary conditions for the spatial domain (e.g., Dirichlet or Neumann boundary conditions).\n",
        "\n",
        "Time-stepping loop:\n",
        "\n",
        "Iterate over time steps.\n",
        "At each time step, solve the system of linear equations to compute\n",
        "\n",
        "u_(\n",
        "n\n",
        "+\n",
        "1)\n",
        "\n",
        " .\n",
        "Here is a simple example in Python using the Crank-Nicolson method:\n",
        "\n"
      ],
      "metadata": {
        "id": "pEx-8hbqFs7F"
      },
      "id": "pEx-8hbqFs7F"
    },
    {
      "cell_type": "code",
      "source": [
        "import numpy as np\n",
        "import matplotlib.pyplot as plt\n",
        "from scipy.sparse import diags\n",
        "from scipy.sparse.linalg import spsolve\n",
        "\n",
        "# Parameters\n",
        "c = 1.0  # wave speed\n",
        "Lx, Ly = 1.0, 1.0  # domain size\n",
        "Nx, Ny = 50, 50  # number of spatial points\n",
        "dx, dy = Lx / Nx, Ly / Ny\n",
        "T = 1.0  # total time\n",
        "dt = 0.01  # time step\n",
        "Nt = int(T / dt)  # number of time steps\n",
        "\n",
        "# Initialize the grid\n",
        "x = np.linspace(0, Lx, Nx)\n",
        "y = np.linspace(0, Ly, Ny)\n",
        "u = np.zeros((Nx, Ny))\n",
        "u_new = np.zeros((Nx, Ny))\n",
        "u_old = np.zeros((Nx, Ny))\n",
        "\n",
        "# Initial condition\n",
        "u[:, :] = np.sin(np.pi * x[:, None]) * np.sin(np.pi * y[None, :])\n",
        "\n",
        "# Coefficients\n",
        "alpha_x = (c * dt / dx)**2 / 2\n",
        "alpha_y = (c * dt / dy)**2 / 2\n",
        "\n",
        "# Construct the sparse matrix A\n",
        "main_diag = (1 + 2*alpha_x + 2*alpha_y) * np.ones(Nx*Ny)\n",
        "off_diag = -alpha_x * np.ones(Nx*Ny-1)\n",
        "A = diags([main_diag, off_diag, off_diag], [0, -1, 1], format='csr')\n",
        "\n",
        "# Time-stepping loop\n",
        "for n in range(Nt):\n",
        "    # Right-hand side vector b\n",
        "    b = (2*u - u_old).flatten()\n",
        "    b[1:-1] += alpha_x * (u.flatten()[2:] + u.flatten()[:-2])\n",
        "    b[1:-1] += alpha_y * (u.flatten()[Nx:] + u.flatten()[:-Nx])\n",
        "\n",
        "    # Solve the system A u_new = b\n",
        "    u_new_flat = spsolve(A, b)\n",
        "    u_new = u_new_flat.reshape((Nx, Ny))\n",
        "\n",
        "    # Update for next time step\n",
        "    u_old[:, :] = u[:, :]\n",
        "    u[:, :] = u_new[:, :]\n",
        "\n",
        "# Plot the final result\n",
        "plt.imshow(u, extent=[0, Lx, 0, Ly], origin='lower')\n",
        "plt.colorbar()\n",
        "plt.title('2D Wave Equation Solution (Crank-Nicolson)')\n",
        "plt.show()\n"
      ],
      "metadata": {
        "id": "rHxzPpIhFkDc"
      },
      "id": "rHxzPpIhFkDc",
      "execution_count": null,
      "outputs": []
    }
  ],
  "metadata": {
    "kernelspec": {
      "display_name": "Python 3 (ipykernel)",
      "language": "python",
      "name": "python3"
    },
    "language_info": {
      "codemirror_mode": {
        "name": "ipython",
        "version": 3
      },
      "file_extension": ".py",
      "mimetype": "text/x-python",
      "name": "python",
      "nbconvert_exporter": "python",
      "pygments_lexer": "ipython3",
      "version": "3.11.9"
    },
    "colab": {
      "provenance": [],
      "include_colab_link": true
    }
  },
  "nbformat": 4,
  "nbformat_minor": 5
}